{
  "nbformat": 4,
  "nbformat_minor": 0,
  "metadata": {
    "colab": {
      "provenance": [],
      "authorship_tag": "ABX9TyNgFblkyJhRvZW6Qxq3A2rt",
      "include_colab_link": true
    },
    "kernelspec": {
      "name": "python3",
      "display_name": "Python 3"
    },
    "language_info": {
      "name": "python"
    }
  },
  "cells": [
    {
      "cell_type": "markdown",
      "metadata": {
        "id": "view-in-github",
        "colab_type": "text"
      },
      "source": [
        "<a href=\"https://colab.research.google.com/github/rahulvenkat207/PDF_Retriver/blob/main/pdfRetrievel.ipynb\" target=\"_parent\"><img src=\"https://colab.research.google.com/assets/colab-badge.svg\" alt=\"Open In Colab\"/></a>"
      ]
    },
    {
      "cell_type": "code",
      "source": [],
      "metadata": {
        "id": "U850AhwSeEEx"
      },
      "execution_count": 2,
      "outputs": []
    },
    {
      "cell_type": "code",
      "source": [],
      "metadata": {
        "id": "AkmXAgbKy0x7"
      },
      "execution_count": null,
      "outputs": []
    },
    {
      "cell_type": "markdown",
      "source": [
        "# Hugging Face Integration for Document Retrieval and Question Answering in LangChain"
      ],
      "metadata": {
        "id": "z_O8TKkCzUEB"
      }
    },
    {
      "cell_type": "markdown",
      "source": [
        "# importing modules"
      ],
      "metadata": {
        "id": "FLlQu9QczWpJ"
      }
    },
    {
      "cell_type": "code",
      "source": [
        "from langchain_community.document_loaders import PyPDFLoader\n",
        "from langchain_community.document_loaders import PyPDFDirectoryLoader\n",
        "from langchain.text_splitter import RecursiveCharacterTextSplitter\n",
        "from langchain_community.vectorstores import FAISS\n",
        "\n",
        "from langchain_community.embeddings import HuggingFaceBgeEmbeddings\n",
        "from langchain.prompts import PromptTemplate\n",
        "\n",
        "from langchain.chains import RetrievalQA"
      ],
      "metadata": {
        "id": "WG6-mtAXy08F"
      },
      "execution_count": 26,
      "outputs": []
    },
    {
      "cell_type": "markdown",
      "source": [
        "# uploading files\n"
      ],
      "metadata": {
        "id": "DqXSf957zdeH"
      }
    },
    {
      "cell_type": "code",
      "source": [
        "from google.colab import files\n",
        "uploaded = files.upload()\n"
      ],
      "metadata": {
        "colab": {
          "base_uri": "https://localhost:8080/",
          "height": 73
        },
        "id": "cWa0AUQUhhKb",
        "outputId": "a60c4f20-e742-410a-a317-9e09116a7cc6"
      },
      "execution_count": 3,
      "outputs": [
        {
          "output_type": "display_data",
          "data": {
            "text/plain": [
              "<IPython.core.display.HTML object>"
            ],
            "text/html": [
              "\n",
              "     <input type=\"file\" id=\"files-e3480a88-22a6-428c-b05d-5b79d36266ff\" name=\"files[]\" multiple disabled\n",
              "        style=\"border:none\" />\n",
              "     <output id=\"result-e3480a88-22a6-428c-b05d-5b79d36266ff\">\n",
              "      Upload widget is only available when the cell has been executed in the\n",
              "      current browser session. Please rerun this cell to enable.\n",
              "      </output>\n",
              "      <script>// Copyright 2017 Google LLC\n",
              "//\n",
              "// Licensed under the Apache License, Version 2.0 (the \"License\");\n",
              "// you may not use this file except in compliance with the License.\n",
              "// You may obtain a copy of the License at\n",
              "//\n",
              "//      http://www.apache.org/licenses/LICENSE-2.0\n",
              "//\n",
              "// Unless required by applicable law or agreed to in writing, software\n",
              "// distributed under the License is distributed on an \"AS IS\" BASIS,\n",
              "// WITHOUT WARRANTIES OR CONDITIONS OF ANY KIND, either express or implied.\n",
              "// See the License for the specific language governing permissions and\n",
              "// limitations under the License.\n",
              "\n",
              "/**\n",
              " * @fileoverview Helpers for google.colab Python module.\n",
              " */\n",
              "(function(scope) {\n",
              "function span(text, styleAttributes = {}) {\n",
              "  const element = document.createElement('span');\n",
              "  element.textContent = text;\n",
              "  for (const key of Object.keys(styleAttributes)) {\n",
              "    element.style[key] = styleAttributes[key];\n",
              "  }\n",
              "  return element;\n",
              "}\n",
              "\n",
              "// Max number of bytes which will be uploaded at a time.\n",
              "const MAX_PAYLOAD_SIZE = 100 * 1024;\n",
              "\n",
              "function _uploadFiles(inputId, outputId) {\n",
              "  const steps = uploadFilesStep(inputId, outputId);\n",
              "  const outputElement = document.getElementById(outputId);\n",
              "  // Cache steps on the outputElement to make it available for the next call\n",
              "  // to uploadFilesContinue from Python.\n",
              "  outputElement.steps = steps;\n",
              "\n",
              "  return _uploadFilesContinue(outputId);\n",
              "}\n",
              "\n",
              "// This is roughly an async generator (not supported in the browser yet),\n",
              "// where there are multiple asynchronous steps and the Python side is going\n",
              "// to poll for completion of each step.\n",
              "// This uses a Promise to block the python side on completion of each step,\n",
              "// then passes the result of the previous step as the input to the next step.\n",
              "function _uploadFilesContinue(outputId) {\n",
              "  const outputElement = document.getElementById(outputId);\n",
              "  const steps = outputElement.steps;\n",
              "\n",
              "  const next = steps.next(outputElement.lastPromiseValue);\n",
              "  return Promise.resolve(next.value.promise).then((value) => {\n",
              "    // Cache the last promise value to make it available to the next\n",
              "    // step of the generator.\n",
              "    outputElement.lastPromiseValue = value;\n",
              "    return next.value.response;\n",
              "  });\n",
              "}\n",
              "\n",
              "/**\n",
              " * Generator function which is called between each async step of the upload\n",
              " * process.\n",
              " * @param {string} inputId Element ID of the input file picker element.\n",
              " * @param {string} outputId Element ID of the output display.\n",
              " * @return {!Iterable<!Object>} Iterable of next steps.\n",
              " */\n",
              "function* uploadFilesStep(inputId, outputId) {\n",
              "  const inputElement = document.getElementById(inputId);\n",
              "  inputElement.disabled = false;\n",
              "\n",
              "  const outputElement = document.getElementById(outputId);\n",
              "  outputElement.innerHTML = '';\n",
              "\n",
              "  const pickedPromise = new Promise((resolve) => {\n",
              "    inputElement.addEventListener('change', (e) => {\n",
              "      resolve(e.target.files);\n",
              "    });\n",
              "  });\n",
              "\n",
              "  const cancel = document.createElement('button');\n",
              "  inputElement.parentElement.appendChild(cancel);\n",
              "  cancel.textContent = 'Cancel upload';\n",
              "  const cancelPromise = new Promise((resolve) => {\n",
              "    cancel.onclick = () => {\n",
              "      resolve(null);\n",
              "    };\n",
              "  });\n",
              "\n",
              "  // Wait for the user to pick the files.\n",
              "  const files = yield {\n",
              "    promise: Promise.race([pickedPromise, cancelPromise]),\n",
              "    response: {\n",
              "      action: 'starting',\n",
              "    }\n",
              "  };\n",
              "\n",
              "  cancel.remove();\n",
              "\n",
              "  // Disable the input element since further picks are not allowed.\n",
              "  inputElement.disabled = true;\n",
              "\n",
              "  if (!files) {\n",
              "    return {\n",
              "      response: {\n",
              "        action: 'complete',\n",
              "      }\n",
              "    };\n",
              "  }\n",
              "\n",
              "  for (const file of files) {\n",
              "    const li = document.createElement('li');\n",
              "    li.append(span(file.name, {fontWeight: 'bold'}));\n",
              "    li.append(span(\n",
              "        `(${file.type || 'n/a'}) - ${file.size} bytes, ` +\n",
              "        `last modified: ${\n",
              "            file.lastModifiedDate ? file.lastModifiedDate.toLocaleDateString() :\n",
              "                                    'n/a'} - `));\n",
              "    const percent = span('0% done');\n",
              "    li.appendChild(percent);\n",
              "\n",
              "    outputElement.appendChild(li);\n",
              "\n",
              "    const fileDataPromise = new Promise((resolve) => {\n",
              "      const reader = new FileReader();\n",
              "      reader.onload = (e) => {\n",
              "        resolve(e.target.result);\n",
              "      };\n",
              "      reader.readAsArrayBuffer(file);\n",
              "    });\n",
              "    // Wait for the data to be ready.\n",
              "    let fileData = yield {\n",
              "      promise: fileDataPromise,\n",
              "      response: {\n",
              "        action: 'continue',\n",
              "      }\n",
              "    };\n",
              "\n",
              "    // Use a chunked sending to avoid message size limits. See b/62115660.\n",
              "    let position = 0;\n",
              "    do {\n",
              "      const length = Math.min(fileData.byteLength - position, MAX_PAYLOAD_SIZE);\n",
              "      const chunk = new Uint8Array(fileData, position, length);\n",
              "      position += length;\n",
              "\n",
              "      const base64 = btoa(String.fromCharCode.apply(null, chunk));\n",
              "      yield {\n",
              "        response: {\n",
              "          action: 'append',\n",
              "          file: file.name,\n",
              "          data: base64,\n",
              "        },\n",
              "      };\n",
              "\n",
              "      let percentDone = fileData.byteLength === 0 ?\n",
              "          100 :\n",
              "          Math.round((position / fileData.byteLength) * 100);\n",
              "      percent.textContent = `${percentDone}% done`;\n",
              "\n",
              "    } while (position < fileData.byteLength);\n",
              "  }\n",
              "\n",
              "  // All done.\n",
              "  yield {\n",
              "    response: {\n",
              "      action: 'complete',\n",
              "    }\n",
              "  };\n",
              "}\n",
              "\n",
              "scope.google = scope.google || {};\n",
              "scope.google.colab = scope.google.colab || {};\n",
              "scope.google.colab._files = {\n",
              "  _uploadFiles,\n",
              "  _uploadFilesContinue,\n",
              "};\n",
              "})(self);\n",
              "</script> "
            ]
          },
          "metadata": {}
        },
        {
          "output_type": "stream",
          "name": "stdout",
          "text": [
            "Saving acsbr-015.pdf to acsbr-015 (5).pdf\n"
          ]
        }
      ]
    },
    {
      "cell_type": "code",
      "source": [
        "# Load PDF documents from the uploaded folder\n",
        "loader = PyPDFDirectoryLoader(\".\")\n",
        "documents = loader.load()\n",
        "\n",
        "# Split documents into chunks\n",
        "text_splitter = RecursiveCharacterTextSplitter(chunk_size=1000, chunk_overlap=200)\n",
        "final_documents = text_splitter.split_documents(documents)\n",
        "\n",
        "# Print the first document chunk (if it exists)\n",
        "if final_documents:\n",
        "    print(\"First document chunk:\")\n",
        "    print(final_documents[0])\n",
        "else:\n",
        "    print(\"No document chunks found.\")"
      ],
      "metadata": {
        "colab": {
          "base_uri": "https://localhost:8080/"
        },
        "id": "hFZTQYpuhoYe",
        "outputId": "4a74c37a-6095-431a-b01c-1b349d4573d5"
      },
      "execution_count": 4,
      "outputs": [
        {
          "output_type": "stream",
          "name": "stdout",
          "text": [
            "First document chunk:\n",
            "page_content='Poverty in States and Metropolitan  \\nAreas: 2022\\nAmerican Community Survey Briefs\\nDecember 2023ACSBR-016By Craig Benson\\nINTRODUCTION\\nPlanners, policymakers, and community stakeholders \\nuse poverty estimates as key indicators to evaluate trends and current economic conditions within com-munities and to make comparisons across demo-graphic groups. Federal and state governments often \\nuse these estimates to allocate funds to local com-\\nmunities. Government agencies, researchers, and local organizations regularly use these estimates to identify the number of individuals and families eligible for vari-ous programs and to measure economic well-being.\\nThis brief uses the 2021 and 2022 American \\nCommunity Survey (ACS) 1-year estimates and the \\n2021 and 2022 Puerto Rico Community Surveys' metadata={'source': 'acsbr-016.pdf', 'page': 0}\n"
          ]
        }
      ]
    },
    {
      "cell_type": "markdown",
      "source": [
        "## Embedding Using Huggingface"
      ],
      "metadata": {
        "id": "8ZlPCwBnznMy"
      }
    },
    {
      "cell_type": "code",
      "source": [
        "\n",
        "huggingface_embeddings=HuggingFaceBgeEmbeddings(\n",
        "    model_name=\"BAAI/bge-small-en-v1.5\",\n",
        "    model_kwargs={'device':'cpu'},\n",
        "    encode_kwargs={'normalize_embeddings':True}\n",
        ")"
      ],
      "metadata": {
        "colab": {
          "base_uri": "https://localhost:8080/"
        },
        "id": "rvdD1vMRciBe",
        "outputId": "893335ae-c539-443a-d0d6-1bb0bf20dae3"
      },
      "execution_count": 5,
      "outputs": [
        {
          "output_type": "stream",
          "name": "stderr",
          "text": [
            "/usr/local/lib/python3.10/dist-packages/sentence_transformers/cross_encoder/CrossEncoder.py:11: TqdmExperimentalWarning: Using `tqdm.autonotebook.tqdm` in notebook mode. Use `tqdm.tqdm` instead to force console mode (e.g. in jupyter console)\n",
            "  from tqdm.autonotebook import tqdm, trange\n",
            "/usr/local/lib/python3.10/dist-packages/huggingface_hub/utils/_token.py:89: UserWarning: \n",
            "The secret `HF_TOKEN` does not exist in your Colab secrets.\n",
            "To authenticate with the Hugging Face Hub, create a token in your settings tab (https://huggingface.co/settings/tokens), set it as secret in your Google Colab and restart your session.\n",
            "You will be able to reuse this secret in all of your notebooks.\n",
            "Please note that authentication is recommended but still optional to access public models or datasets.\n",
            "  warnings.warn(\n",
            "/usr/local/lib/python3.10/dist-packages/huggingface_hub/file_download.py:1132: FutureWarning: `resume_download` is deprecated and will be removed in version 1.0.0. Downloads always resume when possible. If you want to force a new download, use `force_download=True`.\n",
            "  warnings.warn(\n"
          ]
        }
      ]
    },
    {
      "cell_type": "code",
      "source": [
        "import  numpy as np\n",
        "print(np.array(huggingface_embeddings.embed_query(final_documents[0].page_content)))\n",
        "print(np.array(huggingface_embeddings.embed_query(final_documents[0].page_content)).shape)"
      ],
      "metadata": {
        "colab": {
          "base_uri": "https://localhost:8080/"
        },
        "id": "tsW_f0e0gDvQ",
        "outputId": "27aaff82-f415-4782-f3c0-eb01bdb5c061"
      },
      "execution_count": 6,
      "outputs": [
        {
          "output_type": "stream",
          "name": "stdout",
          "text": [
            "[-1.00630280e-02 -3.98545153e-02 -2.14797407e-02  5.86761385e-02\n",
            "  8.02909061e-02  5.45422360e-02 -1.89205445e-02 -3.84308654e-03\n",
            " -5.06586060e-02 -9.22424626e-03  5.20436279e-02  2.59992275e-02\n",
            " -1.59694124e-02 -1.32009666e-02 -3.79712917e-02 -2.48674899e-02\n",
            " -4.57806960e-02  5.27276583e-02  2.56090928e-02  1.23642618e-02\n",
            "  5.47023602e-02 -9.55430232e-03 -7.26953298e-02 -1.91431381e-02\n",
            "  5.93195856e-02 -3.60356346e-02 -1.51885775e-04 -5.13967834e-02\n",
            " -4.05045003e-02 -1.59561872e-01  6.18918706e-03  2.72258744e-03\n",
            "  4.80102375e-02 -6.29636412e-03 -3.37924738e-03 -4.26316075e-02\n",
            "  3.80311124e-02  5.58205210e-02  8.53926782e-03  5.33879139e-02\n",
            " -4.03712387e-04 -2.85844766e-02 -1.75250154e-02 -3.33270915e-02\n",
            " -6.52636513e-02 -6.25040084e-02 -1.69884469e-02 -3.36706918e-03\n",
            " -5.80814444e-02 -1.87587962e-02  3.09326444e-02 -1.79333314e-02\n",
            "  1.11763366e-02  4.28264476e-02  4.17709574e-02  2.02438459e-02\n",
            "  9.16245393e-03 -3.49307843e-02 -2.00626235e-02  4.42196578e-02\n",
            "  3.16111781e-02  9.09475517e-03 -2.67247826e-01  4.63151149e-02\n",
            "  3.19890343e-02  9.42404475e-03  1.66227929e-02 -2.71087531e-02\n",
            " -3.63866054e-02 -4.81888652e-02  5.23803895e-03 -1.47413993e-02\n",
            "  1.43899433e-02  7.97559917e-02  1.50766419e-02 -3.73384096e-02\n",
            "  3.52885313e-02  2.54591997e-03 -2.19097566e-02  2.70609837e-03\n",
            "  2.58722492e-02  4.77115139e-02  1.06454501e-02 -1.58604309e-02\n",
            " -6.43944321e-03 -3.39419320e-02  2.13870034e-02  1.23199495e-02\n",
            "  6.48126677e-02 -3.37076485e-02 -1.74965411e-02 -4.90860678e-02\n",
            "  3.62624638e-02  1.14427810e-03 -1.27171511e-02  3.88978166e-03\n",
            "  4.30217385e-02 -5.57229994e-03 -6.59406781e-02  4.23406720e-01\n",
            "  1.72970183e-02 -1.24600241e-02  3.91804725e-02 -1.51928058e-02\n",
            " -9.42249130e-03 -4.20136936e-03 -2.17769649e-02 -8.18582177e-02\n",
            "  2.73602493e-02  4.25311811e-02 -2.03627087e-02 -3.46254371e-03\n",
            " -3.11768744e-02  2.92782523e-02  3.19556743e-02 -4.34459187e-02\n",
            "  8.89863912e-03  5.28545007e-02  9.23150331e-02 -2.16162950e-02\n",
            " -1.33102313e-02 -1.48076378e-02 -1.24317547e-02 -3.50315943e-02\n",
            "  5.31695783e-02  2.07380094e-02 -1.19184619e-02  7.17210323e-02\n",
            " -2.57766433e-03  3.05687636e-02  2.01313496e-02 -1.69354044e-02\n",
            " -1.06968611e-01 -7.25106802e-03 -1.54300248e-02 -6.45287859e-04\n",
            "  3.82186249e-02  3.58711630e-02  3.24262120e-02  2.56101228e-02\n",
            "  5.33037074e-02  3.49728316e-02  2.37788446e-02 -9.60435644e-02\n",
            " -1.25077879e-02  1.39166728e-01 -2.38337275e-02  1.76367052e-02\n",
            " -3.31800169e-04 -5.34384772e-02  1.28329620e-02  5.65365516e-02\n",
            " -4.42630462e-02  1.72915552e-02 -3.63603001e-03  6.66043907e-03\n",
            " -1.11832032e-02 -3.88145447e-02 -4.92329150e-03  2.00649872e-02\n",
            "  2.73066647e-02 -5.35460114e-02 -4.74822856e-02  4.27259021e-02\n",
            "  4.24336381e-02 -3.56703587e-02 -3.27643231e-02  4.57984544e-02\n",
            "  1.65242441e-02 -1.80754531e-02  5.50455824e-02  6.82054646e-03\n",
            "  2.75579840e-02 -3.26974094e-02  7.95519575e-02 -5.70444018e-03\n",
            "  1.74368222e-04  3.80691583e-03 -6.26285300e-02 -2.70999204e-02\n",
            "  1.61006799e-04 -5.20481379e-04 -3.56900916e-02 -6.51205936e-03\n",
            " -3.51096727e-02  2.15289686e-02 -4.01071869e-02 -4.75414358e-02\n",
            " -4.37361840e-03 -3.76819596e-02 -2.15445608e-02 -3.56966294e-02\n",
            " -3.47036161e-02  5.15837371e-02  1.31347431e-02  2.50347666e-02\n",
            "  5.02912281e-03 -3.50710154e-02  4.45849448e-02 -1.70018524e-02\n",
            " -1.41868582e-02 -2.79174596e-02  1.31048635e-03 -1.65593009e-02\n",
            "  2.17182953e-02 -8.36337544e-03  1.77875981e-02 -4.52985130e-02\n",
            "  6.81727976e-02 -2.07133163e-02 -1.30536081e-02  1.51122492e-02\n",
            "  6.55917302e-02 -1.31710013e-02 -4.10171077e-02  4.46104035e-02\n",
            "  4.47387248e-02 -8.15697853e-03 -1.25759477e-02  3.28765810e-02\n",
            " -1.32367422e-03  5.68181043e-03  1.80775803e-02 -3.05181950e-01\n",
            " -3.20215896e-02  2.75157974e-04  2.55006291e-02  3.80175142e-03\n",
            " -5.53858047e-03  9.14177101e-04  1.36023397e-02 -5.21923155e-02\n",
            "  8.57173353e-02  3.71101424e-02  1.68236159e-02  4.08883020e-02\n",
            "  9.25141945e-02  6.29361793e-02 -1.60256810e-02 -4.54761125e-02\n",
            " -7.14044496e-02 -2.02956181e-02  2.26875022e-02  7.05555873e-03\n",
            "  2.15865094e-02 -1.55978054e-02 -2.50229966e-02  4.53809425e-02\n",
            "  1.58593915e-02  3.70488912e-02 -3.16297114e-02 -5.89485765e-02\n",
            " -3.84882726e-02 -3.07666007e-02  3.08926757e-02  1.31848585e-02\n",
            " -1.00272365e-01 -2.92445887e-02  1.52795585e-02 -7.17700794e-02\n",
            " -4.81523313e-02 -3.57408710e-02 -2.14815680e-02 -5.86460829e-02\n",
            "  4.91089411e-02 -2.61064768e-02  1.02798389e-02 -1.64257269e-02\n",
            " -7.33434036e-03  7.69646987e-02  4.72665839e-02  6.95246691e-03\n",
            "  2.12813541e-03 -2.09987089e-02  3.18834418e-03  2.72832513e-02\n",
            " -3.33661102e-02  1.15390969e-02 -5.82052283e-02 -2.74886880e-02\n",
            " -2.06858162e-02  5.04893512e-02 -3.79041135e-02  4.70669121e-02\n",
            " -2.77095977e-02  1.92081388e-02 -7.30593950e-02  5.65750711e-02\n",
            " -4.83126333e-03  1.40388422e-02 -1.88698396e-02  2.06832890e-03\n",
            "  3.61421355e-03 -1.58805419e-02  7.34519735e-02 -8.30027908e-02\n",
            " -6.63135722e-02  3.35063413e-02  6.73475536e-03  2.83289906e-02\n",
            " -3.35617810e-02 -1.47696510e-02 -4.88019921e-03  7.68622160e-02\n",
            " -1.96684301e-02 -2.85391081e-02  1.74304899e-02  6.30305056e-03\n",
            "  4.54083718e-02  2.98331100e-02  2.22554468e-02 -1.66812688e-02\n",
            " -6.17747717e-02  6.35691779e-03  2.03514248e-02 -2.52675116e-02\n",
            " -7.11421762e-03 -2.43382715e-02  3.64212506e-02 -2.58073419e-01\n",
            "  2.20411029e-02  2.93236580e-02 -3.50180566e-02  5.26049957e-02\n",
            " -6.75875181e-03  6.62357062e-02 -1.24854306e-02  5.01990728e-02\n",
            "  1.90003887e-02  4.99891900e-02  1.00116104e-01  6.79451078e-02\n",
            " -2.18032636e-02 -1.61611568e-03  4.19227779e-03  8.74114111e-02\n",
            " -3.78205217e-02  2.88440678e-02 -2.41291225e-02  5.30456863e-02\n",
            " -1.12061510e-02  1.70069531e-01 -1.21596688e-02 -4.46069874e-02\n",
            " -2.11336836e-02 -7.45506585e-03 -1.84421837e-02  3.31662148e-02\n",
            " -2.23401096e-02  1.54622961e-02  4.33921218e-02  3.19334269e-02\n",
            "  6.96965447e-03  4.58390862e-02 -3.67249921e-03 -3.65161449e-02\n",
            "  2.24006921e-02 -3.03275399e-02  3.88071276e-02 -5.10431714e-02\n",
            "  1.59212649e-02  1.24741355e-02  1.93283018e-02  4.52018902e-02\n",
            "  1.76110081e-02 -3.36637050e-02 -1.01743571e-01  9.36918426e-03\n",
            "  1.63821932e-02 -3.24717239e-02 -2.47830115e-02  2.06059664e-02\n",
            " -5.84163889e-02  5.50719723e-03  3.97230498e-02 -3.52577530e-02\n",
            "  2.25166678e-02  2.02333853e-02 -3.15812938e-02  9.00450628e-03\n",
            "  5.82184084e-03 -6.34642914e-02 -2.50777025e-02  5.46476692e-02]\n",
            "(384,)\n"
          ]
        }
      ]
    },
    {
      "cell_type": "markdown",
      "source": [
        "# Document Vectorization using FAISS with Hugging Face Embeddings"
      ],
      "metadata": {
        "id": "QBoxGwIfz0mQ"
      }
    },
    {
      "cell_type": "code",
      "source": [
        "vectorstore=FAISS.from_documents(final_documents[:120],huggingface_embeddings)"
      ],
      "metadata": {
        "id": "ZZVIc-Vjd-sa"
      },
      "execution_count": 7,
      "outputs": []
    },
    {
      "cell_type": "code",
      "source": [
        "## Query using Similarity Search\n",
        "query=\"WHAT IS HEALTH INSURANCE COVERAGE?\"\n",
        "relevant_docments=vectorstore.similarity_search(query)\n",
        "\n",
        "print(relevant_docments[0].page_content)"
      ],
      "metadata": {
        "colab": {
          "base_uri": "https://localhost:8080/"
        },
        "id": "djfqBWu_iMYS",
        "outputId": "10885647-064b-497b-9dc2-e88bfa9255c3"
      },
      "execution_count": 8,
      "outputs": [
        {
          "output_type": "stream",
          "name": "stdout",
          "text": [
            "2 U.S. Census Bureau\n",
            "WHAT IS HEALTH INSURANCE COVERAGE?\n",
            "This brief presents state-level estimates of health insurance coverage \n",
            "using data from the American Community Survey (ACS). The  \n",
            "U.S. Census Bureau conducts the ACS throughout the year; the \n",
            "survey asks respondents to report their coverage at the time of \n",
            "interview. The resulting measure of health insurance coverage, \n",
            "therefore, reflects an annual average of current comprehensive \n",
            "health insurance coverage status.* This uninsured rate measures a \n",
            "different concept than the measure based on the Current Population \n",
            "Survey Annual Social and Economic Supplement (CPS ASEC). \n",
            "For reporting purposes, the ACS broadly classifies health insurance \n",
            "coverage as private insurance or public insurance. The ACS defines \n",
            "private health insurance as a plan provided through an employer \n",
            "or a union, coverage purchased directly by an individual from an \n",
            "insurance company or through an exchange (such as healthcare.\n"
          ]
        }
      ]
    },
    {
      "cell_type": "markdown",
      "source": [
        "## Environment secret keys"
      ],
      "metadata": {
        "id": "yzDGAOPOz4OG"
      }
    },
    {
      "cell_type": "code",
      "source": [
        "from google.colab import userdata\n",
        "sec_key=userdata.get(\"HUGGINGfACEKEY\")\n"
      ],
      "metadata": {
        "id": "sDbR0ZUkjx-q"
      },
      "execution_count": 9,
      "outputs": []
    },
    {
      "cell_type": "code",
      "source": [
        "import os\n",
        "os.environ[\"HUGGINGFACEHUB_API_TOKEN\"]=sec_key"
      ],
      "metadata": {
        "id": "MjB_j6PNkSlx"
      },
      "execution_count": 10,
      "outputs": []
    },
    {
      "cell_type": "code",
      "source": [
        "from langchain_huggingface import HuggingFacePipeline\n",
        "from transformers import AutoModelForCausalLM, AutoTokenizer, pipeline"
      ],
      "metadata": {
        "id": "QRNIdxU-lTxM"
      },
      "execution_count": 11,
      "outputs": []
    },
    {
      "cell_type": "markdown",
      "source": [
        "# Define the HuggingFace model for LLM"
      ],
      "metadata": {
        "id": "5RZjF3CLz-1U"
      }
    },
    {
      "cell_type": "code",
      "source": [
        "hf = HuggingFacePipeline.from_model_id(\n",
        "    model_id=\"gpt2\",\n",
        "    task=\"text-generation\",\n",
        "    pipeline_kwargs={\"temperature\": 0.7, \"max_new_tokens\": 100}\n",
        ")"
      ],
      "metadata": {
        "id": "MpDWjRmQt62X"
      },
      "execution_count": 28,
      "outputs": []
    },
    {
      "cell_type": "markdown",
      "source": [
        "# PromptTemplate"
      ],
      "metadata": {
        "id": "MdnTB9MC0HS6"
      }
    },
    {
      "cell_type": "code",
      "source": [
        "prompt_template=\"\"\"\n",
        "Use the following piece of context to answer the question asked.\n",
        "Please try to provide the answer only based on the context\n",
        "\n",
        "{context}\n",
        "Question:{question}\n",
        "\n",
        "Helpful Answers:\n",
        " \"\"\""
      ],
      "metadata": {
        "id": "m8F5zFE3pNpK"
      },
      "execution_count": 29,
      "outputs": []
    },
    {
      "cell_type": "code",
      "source": [
        "prompt = PromptTemplate(template=prompt_template, input_variables=[\"context\", \"question\"])\n"
      ],
      "metadata": {
        "id": "hmelB0hQt_Dg"
      },
      "execution_count": 14,
      "outputs": []
    },
    {
      "cell_type": "markdown",
      "source": [
        "# Create a retriever"
      ],
      "metadata": {
        "id": "Rwzb0ARG0Mg4"
      }
    },
    {
      "cell_type": "code",
      "source": [
        "retriever = vectorstore.as_retriever()"
      ],
      "metadata": {
        "id": "u3_3cO66uDmK"
      },
      "execution_count": 19,
      "outputs": []
    },
    {
      "cell_type": "markdown",
      "source": [
        "# Set up the RetrievalQA"
      ],
      "metadata": {
        "id": "IHk-5Yxo0S8I"
      }
    },
    {
      "cell_type": "code",
      "source": [
        "retrievalQA = RetrievalQA.from_chain_type(\n",
        "    llm=hf,\n",
        "    chain_type=\"stuff\",\n",
        "    retriever=retriever,\n",
        "    return_source_documents=True,\n",
        "    chain_type_kwargs={\"prompt\": prompt}\n",
        ")"
      ],
      "metadata": {
        "id": "sSBCAUHzvp7n"
      },
      "execution_count": 20,
      "outputs": []
    },
    {
      "cell_type": "code",
      "source": [
        "query=\"\"\"WHAT IS HEALTH INSURANCE COVERAGE\"\"\""
      ],
      "metadata": {
        "id": "8jJc7aoNuK-W"
      },
      "execution_count": 24,
      "outputs": []
    },
    {
      "cell_type": "code",
      "source": [
        "# Call the QA chain with our query.\n",
        "result = retrievalQA.invoke({\"query\": query})\n",
        "print(result['result'])"
      ],
      "metadata": {
        "colab": {
          "base_uri": "https://localhost:8080/"
        },
        "id": "gpeHj0MFwPX3",
        "outputId": "fd7df744-a6ea-4c31-ceec-b2cd902b1f1b"
      },
      "execution_count": 25,
      "outputs": [
        {
          "output_type": "stream",
          "name": "stdout",
          "text": [
            "\n",
            "Use the following piece of context to answer the question asked.\n",
            "Please try to provide the answer only based on the context\n",
            "\n",
            "2 U.S. Census Bureau\n",
            "WHAT IS HEALTH INSURANCE COVERAGE?\n",
            "This brief presents state-level estimates of health insurance coverage \n",
            "using data from the American Community Survey (ACS). The  \n",
            "U.S. Census Bureau conducts the ACS throughout the year; the \n",
            "survey asks respondents to report their coverage at the time of \n",
            "interview. The resulting measure of health insurance coverage, \n",
            "therefore, reflects an annual average of current comprehensive \n",
            "health insurance coverage status.* This uninsured rate measures a \n",
            "different concept than the measure based on the Current Population \n",
            "Survey Annual Social and Economic Supplement (CPS ASEC). \n",
            "For reporting purposes, the ACS broadly classifies health insurance \n",
            "coverage as private insurance or public insurance. The ACS defines \n",
            "private health insurance as a plan provided through an employer \n",
            "or a union, coverage purchased directly by an individual from an \n",
            "insurance company or through an exchange (such as healthcare.\n",
            "\n",
            "private health insurance as a plan provided through an employer \n",
            "or a union, coverage purchased directly by an individual from an \n",
            "insurance company or through an exchange (such as healthcare.\n",
            "gov), or coverage through TRICARE. Public insurance coverage \n",
            "includes federal programs (such as Medicare, Medicaid, and the \n",
            "Children’s Health Insurance Program or CHIP), individual state \n",
            "health plans, and CHAMPVA (Civilian Health and Medical Program \n",
            "at the Department of Veterans Affairs), as well as care provided \n",
            "by the Department of Veterans Affairs. In the ACS, people are \n",
            "considered insured if they were covered by any of these types \n",
            "of health insurance at time of interview. People are considered \n",
            "uninsured if they were not covered by any of these types of health \n",
            "insurance at time of interview or if they only had coverage through \n",
            "the Indian Health Service (IHS), as IHS coverage is not considered \n",
            "comprehensive.\n",
            "\n",
            "insurance at time of interview or if they only had coverage through \n",
            "the Indian Health Service (IHS), as IHS coverage is not considered \n",
            "comprehensive.\n",
            "* Comprehensive health insurance covers basic health care needs. This definition \n",
            "excludes single-service plans, such as accident, disability, dental, vision, or prescription \n",
            "medicine plans.The large sample size of the ACS \n",
            "allows for an examination of the \n",
            "uninsured rate and coverage by \n",
            "type for subnational geographies.8\n",
            "Key Findings\n",
            "• In 2022, the uninsured rate \n",
            "varied from 2.4 percent in \n",
            "Massachusetts to 16.6 percent \n",
            "in Texas (Figure 1 and Figure \n",
            "2). The District of Columbia \n",
            "was among the lowest with an \n",
            "uninsured rate of 2.9 percent, \n",
            "not statistically different from \n",
            "Massachusetts.\n",
            "• Utah and North Dakota reported \n",
            "the highest rate of private cov -\n",
            "erage (78.4 percent) in 2022, \n",
            "while New Mexico had the low -\n",
            "est private coverage rate (54.4 \n",
            "percent) (Figure 3).9\n",
            "• Utah had the lowest rate of \n",
            "public coverage in 2022 (22.2\n",
            "\n",
            "Health Insurance Coverage Status and Type \n",
            "by Geography: 2021 and 2022\n",
            "American Community Survey Briefs\n",
            "ACSBR-015Issued September 2023Douglas Conway and Breauna Branch\n",
            "INTRODUCTION\n",
            "Demographic shifts as well as economic and govern-\n",
            "ment policy changes can affect people’s access to health coverage. For example, between 2021 and 2022, the labor market continued to improve, which may have affected private coverage in the United States \n",
            "during that time.\n",
            "1 Public policy changes included \n",
            "the renewal of the Public Health Emergency, which \n",
            "allowed Medicaid enrollees to remain covered under the Continuous Enrollment Provision.\n",
            "2 The American \n",
            "Rescue Plan (ARP) enhanced Marketplace premium subsidies for those with incomes above 400 percent of the poverty level as well as for unemployed people.\n",
            "3\n",
            "Question:WHAT IS HEALTH INSURANCE COVERAGE\n",
            "\n",
            "Helpful Answers:\n",
            " \n",
            "1. In 2022, the uninsured rate \n",
            "varied from 2.4 percent in Massachusetts to 16.6 percent \n",
            "in Texas (Figure 1 and Figure 2). The District of Columbia \n",
            "was among the lowest with an uninsured rate of 2.9 percent, \n",
            "not statistically different from \n",
            "Massachusetts.\n",
            "\n",
            "2. In the U.S., the uninsured rate \n",
            "varied from 2.4 percent in Massachusetts to 15.6 percent in\n"
          ]
        }
      ]
    },
    {
      "cell_type": "code",
      "source": [],
      "metadata": {
        "id": "3bQLCV3RwT3f"
      },
      "execution_count": null,
      "outputs": []
    }
  ]
}